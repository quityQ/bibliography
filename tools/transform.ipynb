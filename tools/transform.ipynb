{
 "cells": [
  {
   "cell_type": "markdown",
   "metadata": {},
   "source": [
    "The purpose of this tool is to update a BibTeX file exported from Scopus to also include the cited references in a format that can be used for the analysis using PyBibX.\n",
    "The second export with the same search query of the references as CSV file is required."
   ]
  },
  {
   "cell_type": "code",
   "execution_count": null,
   "metadata": {},
   "outputs": [],
   "source": [
    "import pandas as pd\n",
    "import bibtexparser\n",
    "import re\n",
    "\n",
    "# File paths\n",
    "csv_file_path = #CSV file path\n",
    "bib_file_path = #BibTeX file path\n",
    "output_bib_path = 'cleaned.bib'\n",
    "\n",
    "# Load the CSV file\n",
    "csv_data = pd.read_csv(csv_file_path, encoding='utf-8')\n",
    "\n",
    "# filling missing values to avoid float errors\n",
    "csv_data['DOI'] = csv_data['DOI'].astype(str)\n",
    "csv_data['References'] = csv_data['References'].astype(str)\n",
    "\n",
    "# Standardize DOI in the CSV\n",
    "csv_data['DOI'] = csv_data['DOI'].str.strip().str.lower()\n",
    "\n",
    "# Ensure the CSV has the necessary columns\n",
    "if 'DOI' not in csv_data.columns or 'References' not in csv_data.columns:\n",
    "    raise ValueError(\"CSV must contain 'DOI' and 'References' columns.\")\n",
    "\n",
    "# Load the existing BibTeX file\n",
    "with open(bib_file_path, 'r', encoding='utf-8') as bib_file:\n",
    "    bib_database = bibtexparser.load(bib_file)\n",
    "\n",
    "# Create a dictionary of existing BibTeX entries by DOI (lowercased)\n",
    "doi_to_entry = {entry.get('doi', '').lower(): entry for entry in bib_database.entries}\n",
    "\n",
    "# Track updates\n",
    "updated_entries_count = 0\n",
    "\n",
    "# Iterate over the CSV rows\n",
    "for _, row in csv_data.iterrows():\n",
    "    doi = str(row['DOI']).strip().lower()\n",
    "    reference_text = row['References'].strip()\n",
    "\n",
    "    # Skip if DOI is missing\n",
    "    if not doi or doi not in doi_to_entry:\n",
    "        continue\n",
    "\n",
    "    # Get the corresponding BibTeX entry\n",
    "    entry = doi_to_entry[doi]\n",
    "\n",
    "    # Append the reference text to the 'note' or 'annote' field\n",
    "    entry['references'] = reference_text\n",
    "\n",
    "    updated_entries_count += 1\n",
    "\n",
    "\n",
    "# Write the updated BibTeX file\n",
    "with open(output_bib_path, 'w', encoding='utf-8') as output_bib_file:\n",
    "    bibtexparser.dump(bib_database, output_bib_file)\n",
    "\n",
    "cleaned_content = re.sub(r'@comment.*\\n', '', output_bib_file, flags=re.IGNORECASE)\n",
    "\n",
    "# Save the cleaned content to a new BibTeX file (optional)\n",
    "with open(output_bib_path, 'w', encoding='utf-8') as output_bib_file:\n",
    "    output_bib_file.write(cleaned_content)\n",
    "\n",
    "print(f\"Updated BibTeX file saved to '{output_bib_path}'. Updated {updated_entries_count} entries.\")"
   ]
  }
 ],
 "metadata": {
  "language_info": {
   "name": "python"
  }
 },
 "nbformat": 4,
 "nbformat_minor": 2
}
